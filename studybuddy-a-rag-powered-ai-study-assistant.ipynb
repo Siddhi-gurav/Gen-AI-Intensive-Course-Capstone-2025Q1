{
 "cells": [
  {
   "cell_type": "markdown",
   "id": "4582841b",
   "metadata": {
    "papermill": {
     "duration": 0.005272,
     "end_time": "2025-04-20T16:45:48.302978",
     "exception": false,
     "start_time": "2025-04-20T16:45:48.297706",
     "status": "completed"
    },
    "tags": []
   },
   "source": [
    "\n"
   ]
  },
  {
   "cell_type": "markdown",
   "id": "5a9e9d65",
   "metadata": {
    "papermill": {
     "duration": 0.004255,
     "end_time": "2025-04-20T16:45:48.311946",
     "exception": false,
     "start_time": "2025-04-20T16:45:48.307691",
     "status": "completed"
    },
    "tags": []
   },
   "source": [
    "# ****Install Dependencies****\n",
    "\n",
    "Uninstalls conflicting packages and installs required versions of google-genai, chromadb, and protobuf to ensure compatibility."
   ]
  },
  {
   "cell_type": "code",
   "execution_count": 1,
   "id": "73935e25",
   "metadata": {
    "execution": {
     "iopub.execute_input": "2025-04-20T16:45:48.322230Z",
     "iopub.status.busy": "2025-04-20T16:45:48.321915Z",
     "iopub.status.idle": "2025-04-20T16:46:38.534855Z",
     "shell.execute_reply": "2025-04-20T16:46:38.533681Z"
    },
    "papermill": {
     "duration": 50.220494,
     "end_time": "2025-04-20T16:46:38.536816",
     "exception": false,
     "start_time": "2025-04-20T16:45:48.316322",
     "status": "completed"
    },
    "tags": []
   },
   "outputs": [
    {
     "name": "stdout",
     "output_type": "stream",
     "text": [
      "\u001b[33mWARNING: Skipping kfp as it is not installed.\u001b[0m\u001b[33m\r\n",
      "\u001b[2K     \u001b[90m━━━━━━━━━━━━━━━━━━━━━━━━━━━━━━━━━━━━━━━━\u001b[0m \u001b[32m67.3/67.3 kB\u001b[0m \u001b[31m1.2 MB/s\u001b[0m eta \u001b[36m0:00:00\u001b[0m\r\n",
      "\u001b[?25h  Installing build dependencies ... \u001b[?25l\u001b[?25hdone\r\n",
      "  Getting requirements to build wheel ... \u001b[?25l\u001b[?25hdone\r\n",
      "  Preparing metadata (pyproject.toml) ... \u001b[?25l\u001b[?25hdone\r\n",
      "\u001b[2K   \u001b[90m━━━━━━━━━━━━━━━━━━━━━━━━━━━━━━━━━━━━━━━━\u001b[0m \u001b[32m144.7/144.7 kB\u001b[0m \u001b[31m4.2 MB/s\u001b[0m eta \u001b[36m0:00:00\u001b[0m\r\n",
      "\u001b[2K   \u001b[90m━━━━━━━━━━━━━━━━━━━━━━━━━━━━━━━━━━━━━━━━\u001b[0m \u001b[32m611.1/611.1 kB\u001b[0m \u001b[31m18.4 MB/s\u001b[0m eta \u001b[36m0:00:00\u001b[0m\r\n",
      "\u001b[2K   \u001b[90m━━━━━━━━━━━━━━━━━━━━━━━━━━━━━━━━━━━━━━━━\u001b[0m \u001b[32m2.4/2.4 MB\u001b[0m \u001b[31m48.5 MB/s\u001b[0m eta \u001b[36m0:00:00\u001b[0m\r\n",
      "\u001b[2K   \u001b[90m━━━━━━━━━━━━━━━━━━━━━━━━━━━━━━━━━━━━━━━━\u001b[0m \u001b[32m100.9/100.9 kB\u001b[0m \u001b[31m4.1 MB/s\u001b[0m eta \u001b[36m0:00:00\u001b[0m\r\n",
      "\u001b[2K   \u001b[90m━━━━━━━━━━━━━━━━━━━━━━━━━━━━━━━━━━━━━━━━\u001b[0m \u001b[32m284.2/284.2 kB\u001b[0m \u001b[31m10.6 MB/s\u001b[0m eta \u001b[36m0:00:00\u001b[0m\r\n",
      "\u001b[2K   \u001b[90m━━━━━━━━━━━━━━━━━━━━━━━━━━━━━━━━━━━━━━━━\u001b[0m \u001b[32m95.2/95.2 kB\u001b[0m \u001b[31m4.9 MB/s\u001b[0m eta \u001b[36m0:00:00\u001b[0m\r\n",
      "\u001b[2K   \u001b[90m━━━━━━━━━━━━━━━━━━━━━━━━━━━━━━━━━━━━━━━━\u001b[0m \u001b[32m2.0/2.0 MB\u001b[0m \u001b[31m50.1 MB/s\u001b[0m eta \u001b[36m0:00:00\u001b[0m\r\n",
      "\u001b[2K   \u001b[90m━━━━━━━━━━━━━━━━━━━━━━━━━━━━━━━━━━━━━━━━\u001b[0m \u001b[32m101.6/101.6 kB\u001b[0m \u001b[31m5.6 MB/s\u001b[0m eta \u001b[36m0:00:00\u001b[0m\r\n",
      "\u001b[2K   \u001b[90m━━━━━━━━━━━━━━━━━━━━━━━━━━━━━━━━━━━━━━━━\u001b[0m \u001b[32m16.0/16.0 MB\u001b[0m \u001b[31m69.1 MB/s\u001b[0m eta \u001b[36m0:00:00\u001b[0m\r\n",
      "\u001b[2K   \u001b[90m━━━━━━━━━━━━━━━━━━━━━━━━━━━━━━━━━━━━━━━━\u001b[0m \u001b[32m55.9/55.9 kB\u001b[0m \u001b[31m2.7 MB/s\u001b[0m eta \u001b[36m0:00:00\u001b[0m\r\n",
      "\u001b[2K   \u001b[90m━━━━━━━━━━━━━━━━━━━━━━━━━━━━━━━━━━━━━━━━\u001b[0m \u001b[32m188.4/188.4 kB\u001b[0m \u001b[31m3.7 MB/s\u001b[0m eta \u001b[36m0:00:00\u001b[0m\r\n",
      "\u001b[2K   \u001b[90m━━━━━━━━━━━━━━━━━━━━━━━━━━━━━━━━━━━━━━━━\u001b[0m \u001b[32m65.3/65.3 kB\u001b[0m \u001b[31m2.9 MB/s\u001b[0m eta \u001b[36m0:00:00\u001b[0m\r\n",
      "\u001b[2K   \u001b[90m━━━━━━━━━━━━━━━━━━━━━━━━━━━━━━━━━━━━━━━━\u001b[0m \u001b[32m119.0/119.0 kB\u001b[0m \u001b[31m5.9 MB/s\u001b[0m eta \u001b[36m0:00:00\u001b[0m\r\n",
      "\u001b[2K   \u001b[90m━━━━━━━━━━━━━━━━━━━━━━━━━━━━━━━━━━━━━━━━\u001b[0m \u001b[32m89.1/89.1 kB\u001b[0m \u001b[31m4.4 MB/s\u001b[0m eta \u001b[36m0:00:00\u001b[0m\r\n",
      "\u001b[2K   \u001b[90m━━━━━━━━━━━━━━━━━━━━━━━━━━━━━━━━━━━━━━━━\u001b[0m \u001b[32m62.5/62.5 kB\u001b[0m \u001b[31m3.2 MB/s\u001b[0m eta \u001b[36m0:00:00\u001b[0m\r\n",
      "\u001b[2K   \u001b[90m━━━━━━━━━━━━━━━━━━━━━━━━━━━━━━━━━━━━━━━━\u001b[0m \u001b[32m459.8/459.8 kB\u001b[0m \u001b[31m15.9 MB/s\u001b[0m eta \u001b[36m0:00:00\u001b[0m\r\n",
      "\u001b[2K   \u001b[90m━━━━━━━━━━━━━━━━━━━━━━━━━━━━━━━━━━━━━━━━\u001b[0m \u001b[32m319.7/319.7 kB\u001b[0m \u001b[31m11.5 MB/s\u001b[0m eta \u001b[36m0:00:00\u001b[0m\r\n",
      "\u001b[2K   \u001b[90m━━━━━━━━━━━━━━━━━━━━━━━━━━━━━━━━━━━━━━━━\u001b[0m \u001b[32m72.0/72.0 kB\u001b[0m \u001b[31m1.5 MB/s\u001b[0m eta \u001b[36m0:00:00\u001b[0m\r\n",
      "\u001b[2K   \u001b[90m━━━━━━━━━━━━━━━━━━━━━━━━━━━━━━━━━━━━━━━━\u001b[0m \u001b[32m4.0/4.0 MB\u001b[0m \u001b[31m50.2 MB/s\u001b[0m eta \u001b[36m0:00:00\u001b[0m\r\n",
      "\u001b[2K   \u001b[90m━━━━━━━━━━━━━━━━━━━━━━━━━━━━━━━━━━━━━━━━\u001b[0m \u001b[32m454.8/454.8 kB\u001b[0m \u001b[31m20.7 MB/s\u001b[0m eta \u001b[36m0:00:00\u001b[0m\r\n",
      "\u001b[2K   \u001b[90m━━━━━━━━━━━━━━━━━━━━━━━━━━━━━━━━━━━━━━━━\u001b[0m \u001b[32m46.0/46.0 kB\u001b[0m \u001b[31m1.8 MB/s\u001b[0m eta \u001b[36m0:00:00\u001b[0m\r\n",
      "\u001b[2K   \u001b[90m━━━━━━━━━━━━━━━━━━━━━━━━━━━━━━━━━━━━━━━━\u001b[0m \u001b[32m86.8/86.8 kB\u001b[0m \u001b[31m4.2 MB/s\u001b[0m eta \u001b[36m0:00:00\u001b[0m\r\n",
      "\u001b[?25h  Building wheel for pypika (pyproject.toml) ... \u001b[?25l\u001b[?25hdone\r\n",
      "\u001b[31mERROR: pip's dependency resolver does not currently take into account all the packages that are installed. This behaviour is the source of the following dependency conflicts.\r\n",
      "jupyterlab-lsp 3.10.2 requires jupyterlab<4.0.0a0,>=3.1.0, which is not installed.\r\n",
      "google-cloud-translate 3.12.1 requires protobuf!=3.20.0,!=3.20.1,!=4.21.0,!=4.21.1,!=4.21.2,!=4.21.3,!=4.21.4,!=4.21.5,<5.0.0dev,>=3.19.5, but you have protobuf 5.29.4 which is incompatible.\r\n",
      "google-api-core 1.34.1 requires protobuf!=3.20.0,!=3.20.1,!=4.21.0,!=4.21.1,!=4.21.2,!=4.21.3,!=4.21.4,!=4.21.5,<4.0.0dev,>=3.19.5, but you have protobuf 5.29.4 which is incompatible.\r\n",
      "google-spark-connect 0.5.2 requires google-api-core>=2.19.1, but you have google-api-core 1.34.1 which is incompatible.\r\n",
      "pandas-gbq 0.26.1 requires google-api-core<3.0.0dev,>=2.10.2, but you have google-api-core 1.34.1 which is incompatible.\r\n",
      "bigframes 1.36.0 requires rich<14,>=12.4.4, but you have rich 14.0.0 which is incompatible.\r\n",
      "google-cloud-bigtable 2.28.1 requires google-api-core[grpc]<3.0.0dev,>=2.16.0, but you have google-api-core 1.34.1 which is incompatible.\u001b[0m\u001b[31m\r\n",
      "\u001b[2K   \u001b[90m━━━━━━━━━━━━━━━━━━━━━━━━━━━━━━━━━━━━━━━━\u001b[0m \u001b[32m304.5/304.5 kB\u001b[0m \u001b[31m8.3 MB/s\u001b[0m eta \u001b[36m0:00:00\u001b[0m\r\n",
      "\u001b[?25h\u001b[31mERROR: pip's dependency resolver does not currently take into account all the packages that are installed. This behaviour is the source of the following dependency conflicts.\r\n",
      "opentelemetry-proto 1.32.1 requires protobuf<6.0,>=5.0, but you have protobuf 4.23.4 which is incompatible.\r\n",
      "google-api-core 1.34.1 requires protobuf!=3.20.0,!=3.20.1,!=4.21.0,!=4.21.1,!=4.21.2,!=4.21.3,!=4.21.4,!=4.21.5,<4.0.0dev,>=3.19.5, but you have protobuf 4.23.4 which is incompatible.\r\n",
      "tensorflow-metadata 1.16.1 requires protobuf<6.0.0dev,>=4.25.2; python_version >= \"3.11\", but you have protobuf 4.23.4 which is incompatible.\r\n",
      "google-spark-connect 0.5.2 requires google-api-core>=2.19.1, but you have google-api-core 1.34.1 which is incompatible.\r\n",
      "pandas-gbq 0.26.1 requires google-api-core<3.0.0dev,>=2.10.2, but you have google-api-core 1.34.1 which is incompatible.\r\n",
      "bigframes 1.36.0 requires rich<14,>=12.4.4, but you have rich 14.0.0 which is incompatible.\r\n",
      "google-cloud-bigtable 2.28.1 requires google-api-core[grpc]<3.0.0dev,>=2.16.0, but you have google-api-core 1.34.1 which is incompatible.\u001b[0m\u001b[31m\r\n",
      "\u001b[0m"
     ]
    }
   ],
   "source": [
    "# Uninstall unused conflicting packages and install required versions\n",
    "!pip uninstall -qqy jupyterlab kfp  \n",
    "!pip install -qU \"google-genai==1.7.0\" \"chromadb==0.6.3\"\n",
    "!pip install protobuf==4.23.4 --quiet  # ✅ Compatibility fix\n"
   ]
  },
  {
   "cell_type": "markdown",
   "id": "73d02acf",
   "metadata": {
    "papermill": {
     "duration": 0.007962,
     "end_time": "2025-04-20T16:46:38.551688",
     "exception": false,
     "start_time": "2025-04-20T16:46:38.543726",
     "status": "completed"
    },
    "tags": []
   },
   "source": [
    "# ****Import Generative AI Modules****\n",
    "Imports necessary classes and functions from the Google Generative AI SDK to interact with the Gemini model."
   ]
  },
  {
   "cell_type": "code",
   "execution_count": 2,
   "id": "437c04cb",
   "metadata": {
    "execution": {
     "iopub.execute_input": "2025-04-20T16:46:38.566791Z",
     "iopub.status.busy": "2025-04-20T16:46:38.566432Z",
     "iopub.status.idle": "2025-04-20T16:46:39.938234Z",
     "shell.execute_reply": "2025-04-20T16:46:39.937285Z"
    },
    "papermill": {
     "duration": 1.381309,
     "end_time": "2025-04-20T16:46:39.939809",
     "exception": false,
     "start_time": "2025-04-20T16:46:38.558500",
     "status": "completed"
    },
    "tags": []
   },
   "outputs": [
    {
     "data": {
      "text/plain": [
       "'1.7.0'"
      ]
     },
     "execution_count": 2,
     "metadata": {},
     "output_type": "execute_result"
    }
   ],
   "source": [
    "# Step 2: Import all necessary modules\n",
    "from google import genai\n",
    "from google.genai import types\n",
    "\n",
    "from IPython.display import Markdown\n",
    "\n",
    "genai.__version__\n",
    "\n"
   ]
  },
  {
   "cell_type": "markdown",
   "id": "bdb8f9aa",
   "metadata": {
    "papermill": {
     "duration": 0.007202,
     "end_time": "2025-04-20T16:46:39.954196",
     "exception": false,
     "start_time": "2025-04-20T16:46:39.946994",
     "status": "completed"
    },
    "tags": []
   },
   "source": [
    "# ****Import Vector Store Tools****\n",
    "Loads ChromaDB for handling document embeddings and vector database operations, along with display and OS utilities."
   ]
  },
  {
   "cell_type": "code",
   "execution_count": 3,
   "id": "c52619b5",
   "metadata": {
    "execution": {
     "iopub.execute_input": "2025-04-20T16:46:39.969995Z",
     "iopub.status.busy": "2025-04-20T16:46:39.969292Z",
     "iopub.status.idle": "2025-04-20T16:46:40.807088Z",
     "shell.execute_reply": "2025-04-20T16:46:40.805940Z"
    },
    "papermill": {
     "duration": 0.848802,
     "end_time": "2025-04-20T16:46:40.809854",
     "exception": false,
     "start_time": "2025-04-20T16:46:39.961052",
     "status": "completed"
    },
    "tags": []
   },
   "outputs": [],
   "source": [
    "import chromadb\n",
    "from chromadb import Documents, EmbeddingFunction, Embeddings\n",
    "\n",
    "from IPython.display import display\n",
    "import os\n"
   ]
  },
  {
   "cell_type": "markdown",
   "id": "74758230",
   "metadata": {
    "papermill": {
     "duration": 0.007327,
     "end_time": "2025-04-20T16:46:40.829119",
     "exception": false,
     "start_time": "2025-04-20T16:46:40.821792",
     "status": "completed"
    },
    "tags": []
   },
   "source": [
    " # ****Install Google Generative AI****\n",
    "Installs the google-generativeai package to enable interaction with Gemini models."
   ]
  },
  {
   "cell_type": "code",
   "execution_count": 4,
   "id": "d64818ce",
   "metadata": {
    "execution": {
     "iopub.execute_input": "2025-04-20T16:46:40.846758Z",
     "iopub.status.busy": "2025-04-20T16:46:40.846131Z",
     "iopub.status.idle": "2025-04-20T16:46:45.925206Z",
     "shell.execute_reply": "2025-04-20T16:46:45.923880Z"
    },
    "papermill": {
     "duration": 5.089995,
     "end_time": "2025-04-20T16:46:45.927108",
     "exception": false,
     "start_time": "2025-04-20T16:46:40.837113",
     "status": "completed"
    },
    "tags": []
   },
   "outputs": [
    {
     "name": "stdout",
     "output_type": "stream",
     "text": [
      "Requirement already satisfied: google-generativeai in /usr/local/lib/python3.11/dist-packages (0.8.4)\r\n",
      "Requirement already satisfied: google-ai-generativelanguage==0.6.15 in /usr/local/lib/python3.11/dist-packages (from google-generativeai) (0.6.15)\r\n",
      "Requirement already satisfied: google-api-core in /usr/local/lib/python3.11/dist-packages (from google-generativeai) (1.34.1)\r\n",
      "Requirement already satisfied: google-api-python-client in /usr/local/lib/python3.11/dist-packages (from google-generativeai) (2.160.0)\r\n",
      "Requirement already satisfied: google-auth>=2.15.0 in /usr/local/lib/python3.11/dist-packages (from google-generativeai) (2.27.0)\r\n",
      "Requirement already satisfied: protobuf in /usr/local/lib/python3.11/dist-packages (from google-generativeai) (4.23.4)\r\n",
      "Requirement already satisfied: pydantic in /usr/local/lib/python3.11/dist-packages (from google-generativeai) (2.11.3)\r\n",
      "Requirement already satisfied: tqdm in /usr/local/lib/python3.11/dist-packages (from google-generativeai) (4.67.1)\r\n",
      "Requirement already satisfied: typing-extensions in /usr/local/lib/python3.11/dist-packages (from google-generativeai) (4.13.1)\r\n",
      "Requirement already satisfied: proto-plus<2.0.0dev,>=1.22.3 in /usr/local/lib/python3.11/dist-packages (from google-ai-generativelanguage==0.6.15->google-generativeai) (1.26.0)\r\n",
      "Requirement already satisfied: googleapis-common-protos<2.0dev,>=1.56.2 in /usr/local/lib/python3.11/dist-packages (from google-api-core->google-generativeai) (1.67.0)\r\n",
      "Collecting protobuf (from google-generativeai)\r\n",
      "  Downloading protobuf-3.20.3-py2.py3-none-any.whl.metadata (720 bytes)\r\n",
      "Requirement already satisfied: requests<3.0.0dev,>=2.18.0 in /usr/local/lib/python3.11/dist-packages (from google-api-core->google-generativeai) (2.32.3)\r\n",
      "Requirement already satisfied: cachetools<6.0,>=2.0.0 in /usr/local/lib/python3.11/dist-packages (from google-auth>=2.15.0->google-generativeai) (5.5.2)\r\n",
      "Requirement already satisfied: pyasn1-modules>=0.2.1 in /usr/local/lib/python3.11/dist-packages (from google-auth>=2.15.0->google-generativeai) (0.4.1)\r\n",
      "Requirement already satisfied: rsa<5,>=3.1.4 in /usr/local/lib/python3.11/dist-packages (from google-auth>=2.15.0->google-generativeai) (4.9)\r\n",
      "Requirement already satisfied: httplib2<1.dev0,>=0.19.0 in /usr/local/lib/python3.11/dist-packages (from google-api-python-client->google-generativeai) (0.22.0)\r\n",
      "Requirement already satisfied: google-auth-httplib2<1.0.0,>=0.2.0 in /usr/local/lib/python3.11/dist-packages (from google-api-python-client->google-generativeai) (0.2.0)\r\n",
      "Requirement already satisfied: uritemplate<5,>=3.0.1 in /usr/local/lib/python3.11/dist-packages (from google-api-python-client->google-generativeai) (4.1.1)\r\n",
      "Requirement already satisfied: annotated-types>=0.6.0 in /usr/local/lib/python3.11/dist-packages (from pydantic->google-generativeai) (0.7.0)\r\n",
      "Requirement already satisfied: pydantic-core==2.33.1 in /usr/local/lib/python3.11/dist-packages (from pydantic->google-generativeai) (2.33.1)\r\n",
      "Requirement already satisfied: typing-inspection>=0.4.0 in /usr/local/lib/python3.11/dist-packages (from pydantic->google-generativeai) (0.4.0)\r\n",
      "Requirement already satisfied: grpcio<2.0dev,>=1.33.2 in /usr/local/lib/python3.11/dist-packages (from google-api-core[grpc]!=2.0.*,!=2.1.*,!=2.10.*,!=2.2.*,!=2.3.*,!=2.4.*,!=2.5.*,!=2.6.*,!=2.7.*,!=2.8.*,!=2.9.*,<3.0.0dev,>=1.34.1->google-ai-generativelanguage==0.6.15->google-generativeai) (1.70.0)\r\n",
      "Requirement already satisfied: grpcio-status<2.0dev,>=1.33.2 in /usr/local/lib/python3.11/dist-packages (from google-api-core[grpc]!=2.0.*,!=2.1.*,!=2.10.*,!=2.2.*,!=2.3.*,!=2.4.*,!=2.5.*,!=2.6.*,!=2.7.*,!=2.8.*,!=2.9.*,<3.0.0dev,>=1.34.1->google-ai-generativelanguage==0.6.15->google-generativeai) (1.48.2)\r\n",
      "Requirement already satisfied: pyparsing!=3.0.0,!=3.0.1,!=3.0.2,!=3.0.3,<4,>=2.4.2 in /usr/local/lib/python3.11/dist-packages (from httplib2<1.dev0,>=0.19.0->google-api-python-client->google-generativeai) (3.2.1)\r\n",
      "Requirement already satisfied: pyasn1<0.7.0,>=0.4.6 in /usr/local/lib/python3.11/dist-packages (from pyasn1-modules>=0.2.1->google-auth>=2.15.0->google-generativeai) (0.6.1)\r\n",
      "Requirement already satisfied: charset-normalizer<4,>=2 in /usr/local/lib/python3.11/dist-packages (from requests<3.0.0dev,>=2.18.0->google-api-core->google-generativeai) (3.4.1)\r\n",
      "Requirement already satisfied: idna<4,>=2.5 in /usr/local/lib/python3.11/dist-packages (from requests<3.0.0dev,>=2.18.0->google-api-core->google-generativeai) (3.10)\r\n",
      "Requirement already satisfied: urllib3<3,>=1.21.1 in /usr/local/lib/python3.11/dist-packages (from requests<3.0.0dev,>=2.18.0->google-api-core->google-generativeai) (2.3.0)\r\n",
      "Requirement already satisfied: certifi>=2017.4.17 in /usr/local/lib/python3.11/dist-packages (from requests<3.0.0dev,>=2.18.0->google-api-core->google-generativeai) (2025.1.31)\r\n",
      "Downloading protobuf-3.20.3-py2.py3-none-any.whl (162 kB)\r\n",
      "\u001b[2K   \u001b[90m━━━━━━━━━━━━━━━━━━━━━━━━━━━━━━━━━━━━━━━━\u001b[0m \u001b[32m162.1/162.1 kB\u001b[0m \u001b[31m6.6 MB/s\u001b[0m eta \u001b[36m0:00:00\u001b[0m\r\n",
      "\u001b[?25hInstalling collected packages: protobuf\r\n",
      "  Attempting uninstall: protobuf\r\n",
      "    Found existing installation: protobuf 4.23.4\r\n",
      "    Uninstalling protobuf-4.23.4:\r\n",
      "      Successfully uninstalled protobuf-4.23.4\r\n",
      "\u001b[31mERROR: pip's dependency resolver does not currently take into account all the packages that are installed. This behaviour is the source of the following dependency conflicts.\r\n",
      "opentelemetry-proto 1.32.1 requires protobuf<6.0,>=5.0, but you have protobuf 3.20.3 which is incompatible.\r\n",
      "tensorflow-metadata 1.16.1 requires protobuf<6.0.0dev,>=4.25.2; python_version >= \"3.11\", but you have protobuf 3.20.3 which is incompatible.\r\n",
      "google-spark-connect 0.5.2 requires google-api-core>=2.19.1, but you have google-api-core 1.34.1 which is incompatible.\r\n",
      "pandas-gbq 0.26.1 requires google-api-core<3.0.0dev,>=2.10.2, but you have google-api-core 1.34.1 which is incompatible.\r\n",
      "bigframes 1.36.0 requires rich<14,>=12.4.4, but you have rich 14.0.0 which is incompatible.\r\n",
      "google-cloud-bigtable 2.28.1 requires google-api-core[grpc]<3.0.0dev,>=2.16.0, but you have google-api-core 1.34.1 which is incompatible.\u001b[0m\u001b[31m\r\n",
      "\u001b[0mSuccessfully installed protobuf-3.20.3\r\n"
     ]
    }
   ],
   "source": [
    "!pip install google-generativeai"
   ]
  },
  {
   "cell_type": "markdown",
   "id": "94b3b57e",
   "metadata": {
    "papermill": {
     "duration": 0.006793,
     "end_time": "2025-04-20T16:46:45.941913",
     "exception": false,
     "start_time": "2025-04-20T16:46:45.935120",
     "status": "completed"
    },
    "tags": []
   },
   "source": [
    "****Load API Key Securely****"
   ]
  },
  {
   "cell_type": "code",
   "execution_count": 5,
   "id": "4cef6a62",
   "metadata": {
    "execution": {
     "iopub.execute_input": "2025-04-20T16:46:45.957558Z",
     "iopub.status.busy": "2025-04-20T16:46:45.957188Z",
     "iopub.status.idle": "2025-04-20T16:46:46.149159Z",
     "shell.execute_reply": "2025-04-20T16:46:46.148309Z"
    },
    "papermill": {
     "duration": 0.201815,
     "end_time": "2025-04-20T16:46:46.150718",
     "exception": false,
     "start_time": "2025-04-20T16:46:45.948903",
     "status": "completed"
    },
    "tags": []
   },
   "outputs": [],
   "source": [
    "from kaggle_secrets import UserSecretsClient\n",
    "user_secrets = UserSecretsClient()\n",
    "\n",
    "GOOGLE_API_KEY = UserSecretsClient().get_secret(\"GOOGLE_API_KEY\")\n",
    "\n"
   ]
  },
  {
   "cell_type": "markdown",
   "id": "9c32d6ab",
   "metadata": {
    "papermill": {
     "duration": 0.007097,
     "end_time": "2025-04-20T16:46:46.165401",
     "exception": false,
     "start_time": "2025-04-20T16:46:46.158304",
     "status": "completed"
    },
    "tags": []
   },
   "source": [
    "# ****Install PDF Processing Library****\n",
    "Installs PyMuPDF to extract text content from PDF files."
   ]
  },
  {
   "cell_type": "code",
   "execution_count": 6,
   "id": "362c1f98",
   "metadata": {
    "execution": {
     "iopub.execute_input": "2025-04-20T16:46:46.181092Z",
     "iopub.status.busy": "2025-04-20T16:46:46.180770Z",
     "iopub.status.idle": "2025-04-20T16:46:52.191797Z",
     "shell.execute_reply": "2025-04-20T16:46:52.190100Z"
    },
    "papermill": {
     "duration": 6.021061,
     "end_time": "2025-04-20T16:46:52.193716",
     "exception": false,
     "start_time": "2025-04-20T16:46:46.172655",
     "status": "completed"
    },
    "tags": []
   },
   "outputs": [
    {
     "name": "stdout",
     "output_type": "stream",
     "text": [
      "\u001b[2K   \u001b[90m━━━━━━━━━━━━━━━━━━━━━━━━━━━━━━━━━━━━━━━━\u001b[0m \u001b[32m20.0/20.0 MB\u001b[0m \u001b[31m59.6 MB/s\u001b[0m eta \u001b[36m0:00:00\u001b[0m\r\n",
      "\u001b[?25h"
     ]
    }
   ],
   "source": [
    "!pip install -q PyMuPDF\n"
   ]
  },
  {
   "cell_type": "markdown",
   "id": "04d548c3",
   "metadata": {
    "papermill": {
     "duration": 0.007193,
     "end_time": "2025-04-20T16:46:52.208751",
     "exception": false,
     "start_time": "2025-04-20T16:46:52.201558",
     "status": "completed"
    },
    "tags": []
   },
   "source": [
    "# ****Extract Text from PDF****\n",
    "Defines a function to extract full text from a PDF file using PyMuPDF and prints a preview."
   ]
  },
  {
   "cell_type": "code",
   "execution_count": 7,
   "id": "2f254c2b",
   "metadata": {
    "execution": {
     "iopub.execute_input": "2025-04-20T16:46:52.225382Z",
     "iopub.status.busy": "2025-04-20T16:46:52.225028Z",
     "iopub.status.idle": "2025-04-20T16:46:52.850373Z",
     "shell.execute_reply": "2025-04-20T16:46:52.849420Z"
    },
    "papermill": {
     "duration": 0.635682,
     "end_time": "2025-04-20T16:46:52.851951",
     "exception": false,
     "start_time": "2025-04-20T16:46:52.216269",
     "status": "completed"
    },
    "tags": []
   },
   "outputs": [
    {
     "name": "stdout",
     "output_type": "stream",
     "text": [
      "Generative AI with Large\n",
      "Language Models.\n",
      "Course Notes : July, 2023\n",
      "Generative AI, and LLMs specifically, is a General Purpose Technology that is useful for a variety of\n",
      "applications. \n",
      "\"LLMs can be, generally, thought of as a next word prediction model\"\n",
      "What is an LLM?\n",
      "LLMs are machine learning models that have learned from massive datasets of human-generated\n",
      "content, finding statistical patterns to replicate human-like abilities.\n",
      "Foundation models, also known as base models, have been trained on trillions of words for weeks or\n",
      "months using extensive compute power. These models have billions of parameters, which represent\n",
      "their memory and enable sophisticated tasks.\n",
      "Interacting with LLMs differs from traditional programming paradigms. Instead of formalized code\n",
      "syntax, you provide natural language prompts to the models.\n",
      "What is an LLM?\n",
      "Page 1\n",
      "What are the Use Cases for application of LLMs?\n",
      "Page 2\n",
      "What are Transformers? How was text generation done before Transformers? Transformer Architecture.\n",
      "Page 2\n",
      "How does a Transformer generate Text?\n",
      "Page 4\n",
      "What is a Prompt?\n",
      "Page 5\n",
      "Generative AI Project Life Cycle.\n",
      "Page 7\n",
      "How do you pre-train Large Language Models?\n",
      "Page 8\n",
      "Challenges with pre-training LLMs.\n",
      "Page 9\n",
      "What is the optimal configuration for pre-training LLMs?\n",
      "Page 11\n",
      "When is pre-training useful?\n",
      "Page 12\n",
      "Page 11\n",
      "LLMs are machine learning models that have learned from massive datasets of human-generated content, finding statistical patterns to replicate human-like abilities.\n",
      "Founda\n",
      "tion models, also known as base models, have been trained on trillions of words for weeks or months using extensive compute power. These models have billions of parameters, which represent their memory and enable sophisticated tasks.\n",
      "Interacting with LLMs differs from traditional programming paradigms. Instead of formalized code syntax, you provide natural language prompts to the models.\n",
      "When you pass a prompt to the model, it predicts the next words and generates a completion. This process is known as inference.\n",
      "PART 3\n",
      "RLHF & Application\n",
      "Abhinav Kimothi\n",
      "Keep Calm & Build AI.\n",
      "Course Notes : July, 2023\n",
      "GENERATIVE AI WITH LARGE LANGUAGE MODELS\n",
      "LLM\n",
      "Where is Ganymede located in the\n",
      "solar system?\n",
      "Where is Ganymede located in the\n",
      "solar system?\n",
      "Ganymede is a moon of Jupiter and is\n",
      "located in the solar system within the\n",
      "orbit of Jupiter\n",
      "CONTEXT WINDOW\n",
      "PROMPT\n",
      "COMPLETION\n",
      "MODEL\n",
      "THIS PROCESS IS CALLED 'INFERENCE'\n",
      "What are the Use Cases for LLMs?\n",
      "While Chatbots have emerged to become the most popular applications of LLMs, there are a variety of\n",
      "other tasks that LLMs can be used to accomplish - \n",
      "Writing - From essays to emails to reports and more\n",
      "Summarisation - Summarise long content into a meaningful shorter length\n",
      "Language Translation - Translate text from one language to the other\n",
      "Code - Translate natural language to machine code\n",
      "Information Retrieval - Retrieve specific information from text like names, locations, sentiment\n",
      "Augmented LLM - Power interactions with real world by providing information outside of LLM training\n",
      "TRANSFORMERS.\n",
      "How was text generation done before Transformers?\n",
      "The arrival of the transformer architecture in 2017, following the publication of the \n",
      "\"Attention is All You Need\" paper, revolutionised generative AI.\n",
      "Before the arrival of transformers, text generation tasks were accomplished by Recurrent Neural\n",
      "Networks (RNNs).\n",
      "The next word was predicted looking at the previous few words. The more the number of previous\n",
      "words, the larger was the computational requirement of the RNN.\n",
      "The prediction wasn't great. The reason was the design of looking only at a few previous words.\n",
      "Abhinav Kimothi\n",
      "Keep Calm & Build AI.\n",
      "Course Notes : July, 2023\n",
      "What is Attention?\n",
      "Transformers supersede all previous natural language architectures because of their ability to 'pay attention'\n",
      "HOMONYMS\n",
      "TRANSFORMERS ARE ABLE TO PAY ATTENTION TO THE MEANING OF THE WORDS\n",
      "I took my money to the bank.\n",
      "River Bank?\n",
      "Financial Bank?\n",
      "The teacher taught the student with the book\n",
      "Did\n"
     ]
    }
   ],
   "source": [
    "import fitz  # PyMuPDF\n",
    "\n",
    "def extract_text_from_pdf(pdf_path):\n",
    "    doc = fitz.open(pdf_path)\n",
    "    text = \"\"\n",
    "    for page in doc:\n",
    "        text += page.get_text()\n",
    "    return text\n",
    "\n",
    "# Example usage:\n",
    "pdf_path = \"/kaggle/input/gen-ai-notes/GENERATIVE_AI_WITH_LARGE_LANGUAGE_MODELS_1712321353.pdf\"  # update with your actual file\n",
    "full_text = extract_text_from_pdf(pdf_path)\n",
    "print(full_text[:4000])  # Show a preview\n"
   ]
  },
  {
   "cell_type": "markdown",
   "id": "3ec6a807",
   "metadata": {
    "papermill": {
     "duration": 0.00803,
     "end_time": "2025-04-20T16:46:52.867720",
     "exception": false,
     "start_time": "2025-04-20T16:46:52.859690",
     "status": "completed"
    },
    "tags": []
   },
   "source": [
    "# ****Split Text into Chunks****\n",
    "Breaks the extracted text into smaller chunks (~500 tokens) to make it suitable for embedding."
   ]
  },
  {
   "cell_type": "code",
   "execution_count": 8,
   "id": "0fad8a20",
   "metadata": {
    "execution": {
     "iopub.execute_input": "2025-04-20T16:46:52.884366Z",
     "iopub.status.busy": "2025-04-20T16:46:52.884045Z",
     "iopub.status.idle": "2025-04-20T16:46:52.893438Z",
     "shell.execute_reply": "2025-04-20T16:46:52.892398Z"
    },
    "papermill": {
     "duration": 0.019664,
     "end_time": "2025-04-20T16:46:52.895144",
     "exception": false,
     "start_time": "2025-04-20T16:46:52.875480",
     "status": "completed"
    },
    "tags": []
   },
   "outputs": [
    {
     "name": "stdout",
     "output_type": "stream",
     "text": [
      "Total Chunks: 101\n",
      "Sample chunk:\n",
      " Generative AI with Large. Language Models. Course Notes : July, 2023. Generative AI, and LLMs specifically, is a General Purpose Technology that is useful for a variety of. applications. \"LLMs can be, generally, thought of as a next word prediction model\". What is an LLM?. LLMs are machine learning models that have learned from massive datasets of human-generated. content, finding statistical patterns to replicate human-like abilities.\n"
     ]
    }
   ],
   "source": [
    "def split_text(text, max_tokens=500):\n",
    "    # Rough split by sentence or paragraph\n",
    "    import re\n",
    "    sentences = re.split(r'\\n|\\.\\s+', text)\n",
    "    \n",
    "    chunks = []\n",
    "    current_chunk = \"\"\n",
    "\n",
    "    for sentence in sentences:\n",
    "        if len(current_chunk) + len(sentence) <= max_tokens:\n",
    "            current_chunk += sentence + \". \"\n",
    "        else:\n",
    "            chunks.append(current_chunk.strip())\n",
    "            current_chunk = sentence + \". \"\n",
    "    if current_chunk:\n",
    "        chunks.append(current_chunk.strip())\n",
    "    return chunks\n",
    "\n",
    "text_chunks = split_text(full_text)\n",
    "print(f\"Total Chunks: {len(text_chunks)}\")\n",
    "print(\"Sample chunk:\\n\", text_chunks[0])\n"
   ]
  },
  {
   "cell_type": "markdown",
   "id": "31d70fdd",
   "metadata": {
    "papermill": {
     "duration": 0.007837,
     "end_time": "2025-04-20T16:46:52.911120",
     "exception": false,
     "start_time": "2025-04-20T16:46:52.903283",
     "status": "completed"
    },
    "tags": []
   },
   "source": [
    "# ****Configure Gemini API****\n",
    "Sets the API key to authenticate and enable the use of Gemini’s embedding and generation models."
   ]
  },
  {
   "cell_type": "code",
   "execution_count": 9,
   "id": "9abeaa42",
   "metadata": {
    "execution": {
     "iopub.execute_input": "2025-04-20T16:46:52.928492Z",
     "iopub.status.busy": "2025-04-20T16:46:52.928165Z",
     "iopub.status.idle": "2025-04-20T16:46:54.618679Z",
     "shell.execute_reply": "2025-04-20T16:46:54.617553Z"
    },
    "papermill": {
     "duration": 1.701694,
     "end_time": "2025-04-20T16:46:54.620588",
     "exception": false,
     "start_time": "2025-04-20T16:46:52.918894",
     "status": "completed"
    },
    "tags": []
   },
   "outputs": [],
   "source": [
    "from google.generativeai import configure\n",
    "from google.generativeai import embed_content\n",
    "\n",
    "# Already done by you, but ensure this is here\n",
    "configure(api_key=GOOGLE_API_KEY)\n"
   ]
  },
  {
   "cell_type": "markdown",
   "id": "b58de7fe",
   "metadata": {
    "papermill": {
     "duration": 0.007494,
     "end_time": "2025-04-20T16:46:54.636971",
     "exception": false,
     "start_time": "2025-04-20T16:46:54.629477",
     "status": "completed"
    },
    "tags": []
   },
   "source": [
    " # ****Generate Embeddings****\n",
    "Embeds each chunk of text using Gemini’s embedding model for storage and similarity search."
   ]
  },
  {
   "cell_type": "code",
   "execution_count": 10,
   "id": "73379213",
   "metadata": {
    "execution": {
     "iopub.execute_input": "2025-04-20T16:46:54.654010Z",
     "iopub.status.busy": "2025-04-20T16:46:54.653485Z",
     "iopub.status.idle": "2025-04-20T16:47:24.103171Z",
     "shell.execute_reply": "2025-04-20T16:47:24.102091Z"
    },
    "papermill": {
     "duration": 29.460224,
     "end_time": "2025-04-20T16:47:24.104984",
     "exception": false,
     "start_time": "2025-04-20T16:46:54.644760",
     "status": "completed"
    },
    "tags": []
   },
   "outputs": [
    {
     "name": "stdout",
     "output_type": "stream",
     "text": [
      "✅ Total embeddings generated: 101\n"
     ]
    }
   ],
   "source": [
    "from google.generativeai import embed_content\n",
    "\n",
    "# ✅ Use the newer model\n",
    "EMBED_MODEL = \"models/text-embedding-004\"\n",
    "\n",
    "def generate_embeddings(chunks):\n",
    "    embeddings = []\n",
    "    for i, chunk in enumerate(chunks):\n",
    "        try:\n",
    "            response = embed_content(\n",
    "                model=EMBED_MODEL,\n",
    "                content=chunk,\n",
    "                task_type=\"retrieval_document\",  # or \"retrieval_query\"\n",
    "            )\n",
    "            embeddings.append(response[\"embedding\"])\n",
    "        except Exception as e:\n",
    "            print(f\"❌ Error embedding chunk {i}: {e}\")\n",
    "            embeddings.append(None)\n",
    "    return embeddings\n",
    "\n",
    "# Assuming full_text is already loaded from your PDF extraction\n",
    "text_chunks = split_text(full_text)  # Generate the chunks\n",
    "\n",
    "# Call the function to generate embeddings\n",
    "embeddings = generate_embeddings(text_chunks)\n",
    "\n",
    "# Print the number of valid embeddings\n",
    "valid_embeddings = [e for e in embeddings if e is not None]\n",
    "print(f\"✅ Total embeddings generated: {len(valid_embeddings)}\")\n"
   ]
  },
  {
   "cell_type": "markdown",
   "id": "d5d0dcb6",
   "metadata": {
    "papermill": {
     "duration": 0.008354,
     "end_time": "2025-04-20T16:47:24.122061",
     "exception": false,
     "start_time": "2025-04-20T16:47:24.113707",
     "status": "completed"
    },
    "tags": []
   },
   "source": [
    "# ****Store Embeddings in ChromaD****\n",
    "Initializes ChromaDB client and stores the text chunks with their embeddings into a named collection."
   ]
  },
  {
   "cell_type": "code",
   "execution_count": 11,
   "id": "059cac55",
   "metadata": {
    "execution": {
     "iopub.execute_input": "2025-04-20T16:47:24.140018Z",
     "iopub.status.busy": "2025-04-20T16:47:24.139249Z",
     "iopub.status.idle": "2025-04-20T16:47:24.805290Z",
     "shell.execute_reply": "2025-04-20T16:47:24.803891Z"
    },
    "papermill": {
     "duration": 0.676744,
     "end_time": "2025-04-20T16:47:24.807055",
     "exception": false,
     "start_time": "2025-04-20T16:47:24.130311",
     "status": "completed"
    },
    "tags": []
   },
   "outputs": [
    {
     "name": "stdout",
     "output_type": "stream",
     "text": [
      "✅ Stored 101 chunks in ChromaDB collection.\n"
     ]
    }
   ],
   "source": [
    "import chromadb\n",
    "\n",
    "# Step 1: Initialize ChromaDB client\n",
    "chroma_client = chromadb.Client()\n",
    "\n",
    "# Step 2: Create a new collection (or get if it already exists)\n",
    "collection = chroma_client.create_collection(name=\"study_notes2\")\n",
    "\n",
    "# Step 3: Prepare data for insertion\n",
    "ids = [f\"chunk-{i}\" for i in range(len(text_chunks))]\n",
    "\n",
    "collection.add(\n",
    "    documents=text_chunks,     # Original chunks\n",
    "    embeddings=embeddings,     # Generated embeddings\n",
    "    ids=ids                    # Unique IDs\n",
    ")\n",
    "\n",
    "print(f\"✅ Stored {len(text_chunks)} chunks in ChromaDB collection.\")\n"
   ]
  },
  {
   "cell_type": "markdown",
   "id": "4b4fb5a1",
   "metadata": {
    "papermill": {
     "duration": 0.008655,
     "end_time": "2025-04-20T16:47:24.824187",
     "exception": false,
     "start_time": "2025-04-20T16:47:24.815532",
     "status": "completed"
    },
    "tags": []
   },
   "source": [
    "# ****List Available Gemini Models****\n",
    "Prints the list of available Gemini models that support content generation."
   ]
  },
  {
   "cell_type": "code",
   "execution_count": 12,
   "id": "eda3315f",
   "metadata": {
    "execution": {
     "iopub.execute_input": "2025-04-20T16:47:24.842251Z",
     "iopub.status.busy": "2025-04-20T16:47:24.841971Z",
     "iopub.status.idle": "2025-04-20T16:47:25.033101Z",
     "shell.execute_reply": "2025-04-20T16:47:25.031860Z"
    },
    "papermill": {
     "duration": 0.202279,
     "end_time": "2025-04-20T16:47:25.034560",
     "exception": false,
     "start_time": "2025-04-20T16:47:24.832281",
     "status": "completed"
    },
    "tags": []
   },
   "outputs": [
    {
     "name": "stdout",
     "output_type": "stream",
     "text": [
      "✅ models/gemini-1.0-pro-vision-latest supports content generation\n",
      "✅ models/gemini-pro-vision supports content generation\n",
      "✅ models/gemini-1.5-pro-latest supports content generation\n",
      "✅ models/gemini-1.5-pro-001 supports content generation\n",
      "✅ models/gemini-1.5-pro-002 supports content generation\n",
      "✅ models/gemini-1.5-pro supports content generation\n",
      "✅ models/gemini-1.5-flash-latest supports content generation\n",
      "✅ models/gemini-1.5-flash-001 supports content generation\n",
      "✅ models/gemini-1.5-flash-001-tuning supports content generation\n",
      "✅ models/gemini-1.5-flash supports content generation\n",
      "✅ models/gemini-1.5-flash-002 supports content generation\n",
      "✅ models/gemini-1.5-flash-8b supports content generation\n",
      "✅ models/gemini-1.5-flash-8b-001 supports content generation\n",
      "✅ models/gemini-1.5-flash-8b-latest supports content generation\n",
      "✅ models/gemini-1.5-flash-8b-exp-0827 supports content generation\n",
      "✅ models/gemini-1.5-flash-8b-exp-0924 supports content generation\n",
      "✅ models/gemini-2.5-pro-exp-03-25 supports content generation\n",
      "✅ models/gemini-2.5-pro-preview-03-25 supports content generation\n",
      "✅ models/gemini-2.5-flash-preview-04-17 supports content generation\n",
      "✅ models/gemini-2.0-flash-exp supports content generation\n",
      "✅ models/gemini-2.0-flash supports content generation\n",
      "✅ models/gemini-2.0-flash-001 supports content generation\n",
      "✅ models/gemini-2.0-flash-exp-image-generation supports content generation\n",
      "✅ models/gemini-2.0-flash-lite-001 supports content generation\n",
      "✅ models/gemini-2.0-flash-lite supports content generation\n",
      "✅ models/gemini-2.0-flash-lite-preview-02-05 supports content generation\n",
      "✅ models/gemini-2.0-flash-lite-preview supports content generation\n",
      "✅ models/gemini-2.0-pro-exp supports content generation\n",
      "✅ models/gemini-2.0-pro-exp-02-05 supports content generation\n",
      "✅ models/gemini-exp-1206 supports content generation\n",
      "✅ models/gemini-2.0-flash-thinking-exp-01-21 supports content generation\n",
      "✅ models/gemini-2.0-flash-thinking-exp supports content generation\n",
      "✅ models/gemini-2.0-flash-thinking-exp-1219 supports content generation\n",
      "✅ models/learnlm-1.5-pro-experimental supports content generation\n",
      "✅ models/learnlm-2.0-flash-experimental supports content generation\n",
      "✅ models/gemma-3-1b-it supports content generation\n",
      "✅ models/gemma-3-4b-it supports content generation\n",
      "✅ models/gemma-3-12b-it supports content generation\n",
      "✅ models/gemma-3-27b-it supports content generation\n"
     ]
    }
   ],
   "source": [
    "from google.generativeai import list_models\n",
    "\n",
    "for model in list_models():\n",
    "    if \"generateContent\" in model.supported_generation_methods:\n",
    "        print(f\"✅ {model.name} supports content generation\")\n"
   ]
  },
  {
   "cell_type": "markdown",
   "id": "ec3040b9",
   "metadata": {
    "papermill": {
     "duration": 0.008503,
     "end_time": "2025-04-20T16:47:25.051209",
     "exception": false,
     "start_time": "2025-04-20T16:47:25.042706",
     "status": "completed"
    },
    "tags": []
   },
   "source": [
    "# ****Ask Questions Using Gemini Pro****\n",
    "Sends a context + question to the Gemini model and generates a relevant, concise answer."
   ]
  },
  {
   "cell_type": "code",
   "execution_count": 13,
   "id": "3318067c",
   "metadata": {
    "execution": {
     "iopub.execute_input": "2025-04-20T16:47:25.069626Z",
     "iopub.status.busy": "2025-04-20T16:47:25.069295Z",
     "iopub.status.idle": "2025-04-20T16:47:26.278890Z",
     "shell.execute_reply": "2025-04-20T16:47:26.277875Z"
    },
    "papermill": {
     "duration": 1.221218,
     "end_time": "2025-04-20T16:47:26.280697",
     "exception": false,
     "start_time": "2025-04-20T16:47:25.059479",
     "status": "completed"
    },
    "tags": []
   },
   "outputs": [
    {
     "name": "stdout",
     "output_type": "stream",
     "text": [
      "📘 Answer: LLM stands for Large Language Model.\n"
     ]
    }
   ],
   "source": [
    "\n",
    "import google.generativeai as genai\n",
    "\n",
    "\n",
    "# 🔑 Fetch the API key securely\n",
    "\n",
    "GOOGLE_API_KEY = user_secrets.get_secret(\"GOOGLE_API_KEY\")\n",
    "\n",
    "\n",
    "# ✅ Configure Gemini with your actual key\n",
    "genai.configure(api_key=GOOGLE_API_KEY)\n",
    "\n",
    "# Load the model\n",
    "model = genai.GenerativeModel(\"gemini-1.5-pro-latest\")\n",
    "\n",
    "# Sample input\n",
    "question = \"What is an LLM?\"\n",
    "context = \"\"\"Generative AI, and LLMs specifically, is a General Purpose Technology...\"\"\"\n",
    "\n",
    "# Generate response\n",
    "response = model.generate_content(\n",
    "    f\"\"\"Answer the following question based on the context below:\n",
    "\n",
    "Context:\n",
    "{context}\n",
    "\n",
    "Question:\n",
    "{question}\n",
    "\n",
    "Answer in a short and clear way.\"\"\"\n",
    ")\n",
    "\n",
    "# Output\n",
    "print(\"📘 Answer:\", response.text.strip())\n"
   ]
  },
  {
   "cell_type": "markdown",
   "id": "55283728",
   "metadata": {
    "papermill": {
     "duration": 0.007861,
     "end_time": "2025-04-20T16:47:26.297686",
     "exception": false,
     "start_time": "2025-04-20T16:47:26.289825",
     "status": "completed"
    },
    "tags": []
   },
   "source": [
    "Blog \n",
    "https://medium.com/@guravsiddhi683/studybuddy-a-rag-powered-ai-study-assistant-using-gemini-and-chromadb-071c170a0430[](http://)]\n"
   ]
  }
 ],
 "metadata": {
  "kaggle": {
   "accelerator": "none",
   "dataSources": [
    {
     "sourceId": 97258,
     "sourceType": "competition"
    },
    {
     "datasetId": 7168585,
     "sourceId": 11443191,
     "sourceType": "datasetVersion"
    }
   ],
   "dockerImageVersionId": 31012,
   "isGpuEnabled": false,
   "isInternetEnabled": true,
   "language": "python",
   "sourceType": "notebook"
  },
  "kernelspec": {
   "display_name": "Python 3",
   "language": "python",
   "name": "python3"
  },
  "language_info": {
   "codemirror_mode": {
    "name": "ipython",
    "version": 3
   },
   "file_extension": ".py",
   "mimetype": "text/x-python",
   "name": "python",
   "nbconvert_exporter": "python",
   "pygments_lexer": "ipython3",
   "version": "3.11.11"
  },
  "papermill": {
   "default_parameters": {},
   "duration": 106.291366,
   "end_time": "2025-04-20T16:47:29.328330",
   "environment_variables": {},
   "exception": null,
   "input_path": "__notebook__.ipynb",
   "output_path": "__notebook__.ipynb",
   "parameters": {},
   "start_time": "2025-04-20T16:45:43.036964",
   "version": "2.6.0"
  }
 },
 "nbformat": 4,
 "nbformat_minor": 5
}
